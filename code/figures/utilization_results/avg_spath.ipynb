{
 "cells": [
  {
   "cell_type": "code",
   "execution_count": 2,
   "metadata": {},
   "outputs": [],
   "source": [
    "import pandas as pd"
   ]
  },
  {
   "cell_type": "code",
   "execution_count": 3,
   "metadata": {},
   "outputs": [],
   "source": [
    "METERS_PER_MILE = 1609.34\n",
    "METERS_PER_KM = 1000"
   ]
  },
  {
   "cell_type": "code",
   "execution_count": 7,
   "metadata": {},
   "outputs": [
    {
     "data": {
      "text/plain": [
       "avg_spath_w_bridge     18387.088445\n",
       "avg_spath_wo_bridge    18402.806167\n",
       "diff                      15.717723\n",
       "dtype: float64"
      ]
     },
     "execution_count": 7,
     "metadata": {},
     "output_type": "execute_result"
    }
   ],
   "source": [
    "## print paths (unit meters)\n",
    "avg_spaths = pd.read_csv('data/utilization_stats/avg_spath.csv')\n",
    "avg_spaths['diff'] = avg_spaths['avg_spath_wo_bridge'] - avg_spaths['avg_spath_w_bridge']\n",
    "avg_spaths.sum() # 1 tall dataframe, this just makes it nice and readable"
   ]
  },
  {
   "cell_type": "code",
   "execution_count": 8,
   "metadata": {},
   "outputs": [
    {
     "data": {
      "text/plain": [
       "avg_spath_w_bridge     11.425235\n",
       "avg_spath_wo_bridge    11.435002\n",
       "diff                    0.009767\n",
       "dtype: float64"
      ]
     },
     "execution_count": 8,
     "metadata": {},
     "output_type": "execute_result"
    }
   ],
   "source": [
    "## print paths (unit miles)\n",
    "avg_spaths.sum() / METERS_PER_MILE # convert unit"
   ]
  },
  {
   "cell_type": "code",
   "execution_count": 9,
   "metadata": {},
   "outputs": [
    {
     "data": {
      "text/plain": [
       "avg_spath_w_bridge     18.387088\n",
       "avg_spath_wo_bridge    18.402806\n",
       "diff                    0.015718\n",
       "dtype: float64"
      ]
     },
     "execution_count": 9,
     "metadata": {},
     "output_type": "execute_result"
    }
   ],
   "source": [
    "## print paths (unit km)\n",
    "avg_spaths.sum() / METERS_PER_KM # convert unit"
   ]
  },
  {
   "cell_type": "code",
   "execution_count": 11,
   "metadata": {},
   "outputs": [
    {
     "data": {
      "text/plain": [
       "0    0.000855\n",
       "dtype: float64"
      ]
     },
     "execution_count": 11,
     "metadata": {},
     "output_type": "execute_result"
    }
   ],
   "source": [
    "# percent wise\n",
    "avg_spaths['diff'] / avg_spaths['avg_spath_w_bridge']"
   ]
  }
 ],
 "metadata": {
  "kernelspec": {
   "display_name": "base",
   "language": "python",
   "name": "python3"
  },
  "language_info": {
   "codemirror_mode": {
    "name": "ipython",
    "version": 3
   },
   "file_extension": ".py",
   "mimetype": "text/x-python",
   "name": "python",
   "nbconvert_exporter": "python",
   "pygments_lexer": "ipython3",
   "version": "3.12.2"
  }
 },
 "nbformat": 4,
 "nbformat_minor": 2
}
